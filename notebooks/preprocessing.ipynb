{
 "cells": [
  {
   "cell_type": "code",
   "execution_count": 4,
   "metadata": {},
   "outputs": [],
   "source": [
    "# Import necessary libraries\n",
    "import pandas as pd\n",
    "import numpy as np\n",
    "import matplotlib.pyplot as plt\n",
    "import seaborn as sns"
   ]
  },
  {
   "cell_type": "code",
   "execution_count": 6,
   "metadata": {},
   "outputs": [
    {
     "name": "stderr",
     "output_type": "stream",
     "text": [
      "C:\\Users\\hp\\AppData\\Local\\Temp\\ipykernel_22936\\3683741112.py:1: DtypeWarning: Columns (7) have mixed types. Specify dtype option on import or set low_memory=False.\n",
      "  df_train=pd.read_csv('../data/train.csv')\n"
     ]
    }
   ],
   "source": [
    "df_train=pd.read_csv('../data/train.csv')\n",
    "df_store = pd.read_csv('../data/store.csv')"
   ]
  },
  {
   "cell_type": "code",
   "execution_count": 8,
   "metadata": {},
   "outputs": [
    {
     "name": "stdout",
     "output_type": "stream",
     "text": [
      "Data has been successfully merged\n"
     ]
    }
   ],
   "source": [
    "#Merge the two datasets based on the store column on left\n",
    "total_df = pd.merge(df_store,df_train, on='Store', how ='left')\n",
    "print('Data has been successfully merged')"
   ]
  },
  {
   "cell_type": "code",
   "execution_count": 9,
   "metadata": {},
   "outputs": [],
   "source": [
    "#creating a copy of the dataset for further featre engineering\n",
    "\n",
    "df = total_df.copy()"
   ]
  },
  {
   "cell_type": "code",
   "execution_count": 10,
   "metadata": {},
   "outputs": [
    {
     "name": "stdout",
     "output_type": "stream",
     "text": [
      "Store                             0\n",
      "StoreType                         0\n",
      "Assortment                        0\n",
      "CompetitionDistance            2642\n",
      "CompetitionOpenSinceMonth    323348\n",
      "CompetitionOpenSinceYear     323348\n",
      "Promo2                            0\n",
      "Promo2SinceWeek              508031\n",
      "Promo2SinceYear              508031\n",
      "PromoInterval                508031\n",
      "DayOfWeek                         0\n",
      "Date                              0\n",
      "Sales                             0\n",
      "Customers                         0\n",
      "Open                              0\n",
      "Promo                             0\n",
      "StateHoliday                      0\n",
      "SchoolHoliday                     0\n",
      "dtype: int64\n"
     ]
    }
   ],
   "source": [
    "#handling missing value \n",
    "print(df.isnull().sum())"
   ]
  },
  {
   "cell_type": "code",
   "execution_count": 11,
   "metadata": {},
   "outputs": [
    {
     "name": "stderr",
     "output_type": "stream",
     "text": [
      "C:\\Users\\hp\\AppData\\Local\\Temp\\ipykernel_22936\\390190294.py:1: FutureWarning: A value is trying to be set on a copy of a DataFrame or Series through chained assignment using an inplace method.\n",
      "The behavior will change in pandas 3.0. This inplace method will never work because the intermediate object on which we are setting values always behaves as a copy.\n",
      "\n",
      "For example, when doing 'df[col].method(value, inplace=True)', try using 'df.method({col: value}, inplace=True)' or df[col] = df[col].method(value) instead, to perform the operation inplace on the original object.\n",
      "\n",
      "\n",
      "  df['CompetitionDistance'].fillna(df['CompetitionDistance'].mean(),inplace=True)\n",
      "C:\\Users\\hp\\AppData\\Local\\Temp\\ipykernel_22936\\390190294.py:3: FutureWarning: A value is trying to be set on a copy of a DataFrame or Series through chained assignment using an inplace method.\n",
      "The behavior will change in pandas 3.0. This inplace method will never work because the intermediate object on which we are setting values always behaves as a copy.\n",
      "\n",
      "For example, when doing 'df[col].method(value, inplace=True)', try using 'df.method({col: value}, inplace=True)' or df[col] = df[col].method(value) instead, to perform the operation inplace on the original object.\n",
      "\n",
      "\n",
      "  df['CompetitionOpenSinceMonth'].fillna(df['CompetitionOpenSinceMonth'].min(),inplace=True)\n",
      "C:\\Users\\hp\\AppData\\Local\\Temp\\ipykernel_22936\\390190294.py:4: FutureWarning: A value is trying to be set on a copy of a DataFrame or Series through chained assignment using an inplace method.\n",
      "The behavior will change in pandas 3.0. This inplace method will never work because the intermediate object on which we are setting values always behaves as a copy.\n",
      "\n",
      "For example, when doing 'df[col].method(value, inplace=True)', try using 'df.method({col: value}, inplace=True)' or df[col] = df[col].method(value) instead, to perform the operation inplace on the original object.\n",
      "\n",
      "\n",
      "  df['CompetitionOpenSinceYear'].fillna(df['CompetitionOpenSinceYear'].min(),inplace=True)\n",
      "C:\\Users\\hp\\AppData\\Local\\Temp\\ipykernel_22936\\390190294.py:6: FutureWarning: A value is trying to be set on a copy of a DataFrame or Series through chained assignment using an inplace method.\n",
      "The behavior will change in pandas 3.0. This inplace method will never work because the intermediate object on which we are setting values always behaves as a copy.\n",
      "\n",
      "For example, when doing 'df[col].method(value, inplace=True)', try using 'df.method({col: value}, inplace=True)' or df[col] = df[col].method(value) instead, to perform the operation inplace on the original object.\n",
      "\n",
      "\n",
      "  df['Promo2SinceWeek'].fillna(0,inplace=True)\n",
      "C:\\Users\\hp\\AppData\\Local\\Temp\\ipykernel_22936\\390190294.py:7: FutureWarning: A value is trying to be set on a copy of a DataFrame or Series through chained assignment using an inplace method.\n",
      "The behavior will change in pandas 3.0. This inplace method will never work because the intermediate object on which we are setting values always behaves as a copy.\n",
      "\n",
      "For example, when doing 'df[col].method(value, inplace=True)', try using 'df.method({col: value}, inplace=True)' or df[col] = df[col].method(value) instead, to perform the operation inplace on the original object.\n",
      "\n",
      "\n",
      "  df['Promo2SinceYear'].fillna(0,inplace=True)\n",
      "C:\\Users\\hp\\AppData\\Local\\Temp\\ipykernel_22936\\390190294.py:8: FutureWarning: A value is trying to be set on a copy of a DataFrame or Series through chained assignment using an inplace method.\n",
      "The behavior will change in pandas 3.0. This inplace method will never work because the intermediate object on which we are setting values always behaves as a copy.\n",
      "\n",
      "For example, when doing 'df[col].method(value, inplace=True)', try using 'df.method({col: value}, inplace=True)' or df[col] = df[col].method(value) instead, to perform the operation inplace on the original object.\n",
      "\n",
      "\n",
      "  df['PromoInterval'].fillna(0,inplace=True)\n"
     ]
    }
   ],
   "source": [
    "#filling the null value with the mean of column\n",
    "df['CompetitionDistance'].fillna(df['CompetitionDistance'].mean(),inplace=True)\n",
    "\n",
    "#fill them with minimum value for month and year\n",
    "df['CompetitionOpenSinceMonth'].fillna(df['CompetitionOpenSinceMonth'].min(),inplace=True)\n",
    "df['CompetitionOpenSinceYear'].fillna(df['CompetitionOpenSinceYear'].min(),inplace=True)\n",
    "\n",
    "#fill them with 0 value\n",
    "df['Promo2SinceWeek'].fillna(0,inplace=True)\n",
    "df['Promo2SinceYear'].fillna(0,inplace=True)\n",
    "df['PromoInterval'].fillna(0,inplace=True)"
   ]
  },
  {
   "cell_type": "code",
   "execution_count": 12,
   "metadata": {},
   "outputs": [
    {
     "name": "stdout",
     "output_type": "stream",
     "text": [
      "Store                        0\n",
      "StoreType                    0\n",
      "Assortment                   0\n",
      "CompetitionDistance          0\n",
      "CompetitionOpenSinceMonth    0\n",
      "CompetitionOpenSinceYear     0\n",
      "Promo2                       0\n",
      "Promo2SinceWeek              0\n",
      "Promo2SinceYear              0\n",
      "PromoInterval                0\n",
      "DayOfWeek                    0\n",
      "Date                         0\n",
      "Sales                        0\n",
      "Customers                    0\n",
      "Open                         0\n",
      "Promo                        0\n",
      "StateHoliday                 0\n",
      "SchoolHoliday                0\n",
      "dtype: int64\n"
     ]
    }
   ],
   "source": [
    "print(df.isnull().sum())"
   ]
  },
  {
   "cell_type": "code",
   "execution_count": 14,
   "metadata": {},
   "outputs": [
    {
     "name": "stderr",
     "output_type": "stream",
     "text": [
      "c:\\Users\\hp\\anaconda\\Lib\\site-packages\\numpy\\lib\\function_base.py:4824: UserWarning: Warning: 'partition' will ignore the 'mask' of the MaskedArray.\n",
      "  arr.partition(\n",
      "c:\\Users\\hp\\anaconda\\Lib\\site-packages\\numpy\\lib\\function_base.py:4824: UserWarning: Warning: 'partition' will ignore the 'mask' of the MaskedArray.\n",
      "  arr.partition(\n"
     ]
    },
    {
     "data": {
      "image/png": "[encoded data removed]",
      "text/plain": [
       "<Figure size 640x480 with 1 Axes>"
      ]
     },
     "metadata": {},
     "output_type": "display_data"
    }
   ],
   "source": [
    "#Handling Outliers & Outlier treatments\n",
    "# Identify the outliers\n",
    "# In this example, we will use the box plot to identify the outliers for the 'Sales' variable\n",
    "sns.boxplot(x='Sales', data=total_df)\n",
    "# Decide on the outlier treatment strategy\n",
    "# In this example, we will winsorize the outliers for the 'sales' variable\n",
    "\n",
    "from scipy.stats.mstats import winsorize\n",
    "total_df['Sales'] = winsorize(total_df[ 'Sales'], limits=[0.05, 0.05])\n",
    "\n",
    "# Alternatively, you can remove the outliers for the \"Sales' variable\n",
    "q1 = total_df['Sales'].quantile (0.25)\n",
    "q3 = total_df['Sales'].quantile (0.75)\n",
    "iqr = q3 - q1\n",
    "df = total_df[(total_df['Sales'] >=q1 - 1.5*iqr) & (total_df[ 'Sales'] <= q3 + 1.5*iqr)]"
   ]
  },
  {
   "cell_type": "code",
   "execution_count": 17,
   "metadata": {},
   "outputs": [],
   "source": [
    "#Encoding catagorical column\n",
    "#one-hot encoding\n",
    "total_df['StateHoliday'] = total_df['StateHoliday'].astype(str)\n",
    "\n",
    "df = pd.get_dummies(total_df, columns=['StateHoliday'])\n",
    "\n",
    "#also we can use lable encoder\n",
    "\n",
    "from sklearn.preprocessing import LabelEncoder\n",
    "le = LabelEncoder()\n",
    "df['StateHoliday'] = le.fit_transform(total_df['StateHoliday'])"
   ]
  },
  {
   "cell_type": "code",
   "execution_count": null,
   "metadata": {},
   "outputs": [],
   "source": [
    "#Textual Data Preprocessing "
   ]
  },
  {
   "cell_type": "code",
   "execution_count": null,
   "metadata": {},
   "outputs": [],
   "source": [
    "#Multicollineartiy"
   ]
  },
  {
   "cell_type": "code",
   "execution_count": 18,
   "metadata": {},
   "outputs": [],
   "source": [
    "#import the necessary library for calculating variance\n",
    "1 # Import the necessary library for calculating Variance Inflation Factor (VIF).\n",
    "from statsmodels.stats.outliers_influence import variance_inflation_factor\n",
    "# Define a function named 'cale_vif' that calculates the VIF for each column in the input DataFrame 'X'.\n",
    "def calc_vif(x):\n",
    "   \n",
    "# Calculating VIF\n",
    "   vif = pd.df()\n",
    "   vif[ \"variables\"] = X.columns\n",
    "   vif[\"VIF\"] = [variance_inflation_factor(X.values, i) for i in range(x.shape[1])]\n",
    "\n",
    "   return(vif)\n"
   ]
  }
 ],
 "metadata": {
  "kernelspec": {
   "display_name": "base",
   "language": "python",
   "name": "python3"
  },
  "language_info": {
   "codemirror_mode": {
    "name": "ipython",
    "version": 3
   },
   "file_extension": ".py",
   "mimetype": "text/x-python",
   "name": "python",
   "nbconvert_exporter": "python",
   "pygments_lexer": "ipython3",
   "version": "3.12.7"
  }
 },
 "nbformat": 4,
 "nbformat_minor": 2
}
